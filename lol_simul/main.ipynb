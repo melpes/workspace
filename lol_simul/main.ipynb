{
 "cells": [
  {
   "cell_type": "code",
   "execution_count": 19,
   "metadata": {},
   "outputs": [],
   "source": [
    "import pandas as pd"
   ]
  },
  {
   "cell_type": "code",
   "execution_count": 20,
   "metadata": {},
   "outputs": [],
   "source": [
    "df = pd.read_csv(\"C:/Users/kkang/Desktop/subject/Coding/python/workspace/lol_simul/champion_stat.csv\")"
   ]
  },
  {
   "cell_type": "code",
   "execution_count": 21,
   "metadata": {},
   "outputs": [
    {
     "data": {
      "text/plain": [
       "챔피언       그웬(리그 오브 레전드)\n",
       "체력            620(+109)\n",
       "공격력              63(+3)\n",
       "공격 속도     0.690(+2.25%)\n",
       "방어력            39(+5.2)\n",
       "마법 저항력        32(+2.05)\n",
       "Name: 5, dtype: object"
      ]
     },
     "execution_count": 21,
     "metadata": {},
     "output_type": "execute_result"
    }
   ],
   "source": [
    "name = input(\"챔피언 이름을 입력하세요 : \")\n",
    "level = int(input(\"레벨을 입력하세요 : \"))\n",
    "\n",
    "champ_i = None\n",
    "for i, v in df.iterrows():\n",
    "    if name in v[0]:\n",
    "        champ_i = i\n",
    "        break\n",
    "\n",
    "stat = df.loc[champ_i]\n",
    "stat"
   ]
  },
  {
   "cell_type": "code",
   "execution_count": 26,
   "metadata": {},
   "outputs": [
    {
     "data": {
      "text/plain": [
       "{'체력': 1274.0, '공격력': 81.0, '공격 속도': 0.705525, '방어력': 70.2, '마법 저항력': 44.3}"
      ]
     },
     "execution_count": 26,
     "metadata": {},
     "output_type": "execute_result"
    }
   ],
   "source": [
    "stat_dict = {}\n",
    "lst = df.columns.values.tolist()\n",
    "\n",
    "for i in range(len(stat)):\n",
    "    if i == 0:\n",
    "        continue\n",
    "    basic, levelic = stat[i].split('(')\n",
    "    levelic = levelic[1:-1]\n",
    "    if levelic[-1] == '%':\n",
    "        basic, levelic = map(float, [basic, levelic[:-1]])\n",
    "        stat_dict[lst[i]] = basic * (levelic + 100) / 100\n",
    "    else:\n",
    "\n",
    "        basic, levelic = map(float, [basic, levelic])\n",
    "        stat_dict[lst[i]] = basic + level * levelic\n",
    "stat_dict"
   ]
  },
  {
   "cell_type": "code",
   "execution_count": null,
   "metadata": {},
   "outputs": [],
   "source": []
  }
 ],
 "metadata": {
  "kernelspec": {
   "display_name": "Python 3.9.4 64-bit",
   "language": "python",
   "name": "python3"
  },
  "language_info": {
   "codemirror_mode": {
    "name": "ipython",
    "version": 3
   },
   "file_extension": ".py",
   "mimetype": "text/x-python",
   "name": "python",
   "nbconvert_exporter": "python",
   "pygments_lexer": "ipython3",
   "version": "3.9.4"
  },
  "orig_nbformat": 4,
  "vscode": {
   "interpreter": {
    "hash": "81794d4967e6c3204c66dcd87b604927b115b27c00565d3d43f05ba2f3a2cb0d"
   }
  }
 },
 "nbformat": 4,
 "nbformat_minor": 2
}
