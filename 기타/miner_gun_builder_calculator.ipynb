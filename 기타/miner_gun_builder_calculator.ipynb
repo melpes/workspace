{
 "cells": [
  {
   "cell_type": "code",
   "execution_count": 2,
   "metadata": {},
   "outputs": [],
   "source": [
    "# import\n",
    "import matplotlib.pyplot as plt\n",
    "import seaborn as sns\n",
    "import numpy as np\n",
    "import random"
   ]
  },
  {
   "cell_type": "code",
   "execution_count": 11,
   "metadata": {},
   "outputs": [
    {
     "data": {
      "image/png": "[encoded data removed]",
      "text/plain": [
       "<Figure size 432x288 with 1 Axes>"
      ]
     },
     "metadata": {
      "needs_background": "light"
     },
     "output_type": "display_data"
    }
   ],
   "source": [
    "n = int(1e4)\n",
    "k = 5\n",
    "critical_rate = 0.04\n",
    "critical_damage = 10\n",
    "\n",
    "x = [i for i in range(n)]\n",
    "bullet_lst = []\n",
    "for i in range(n):\n",
    "    damage = 1\n",
    "    for _ in range(k):\n",
    "        trigger = random.random()\n",
    "        if trigger < critical_rate:\n",
    "            damage *= critical_damage\n",
    "            # print(damage)\n",
    "    bullet_lst.append(damage)\n",
    "\n",
    "dens_n = 3\n",
    "density = [np.mean(bullet_lst[dens_n*i:dens_n*(i+1)]) for i in range(n // dens_n)]\n",
    "aver = np.mean(bullet_lst)\n",
    "aver_lst = [aver for _ in range(len(density))]\n",
    "\n",
    "plt.bar([i for i in range(len(density))], density)\n",
    "plt.plot([i for i in range(len(density))], aver_lst, \"r-\")\n",
    "plt.yscale('log')\n",
    "plt.ylim([1, 1e2 * 1.1])\n",
    "plt.show()"
   ]
  }
 ],
 "metadata": {
  "interpreter": {
   "hash": "81794d4967e6c3204c66dcd87b604927b115b27c00565d3d43f05ba2f3a2cb0d"
  },
  "kernelspec": {
   "display_name": "Python 3.9.4 64-bit",
   "language": "python",
   "name": "python3"
  },
  "language_info": {
   "codemirror_mode": {
    "name": "ipython",
    "version": 3
   },
   "file_extension": ".py",
   "mimetype": "text/x-python",
   "name": "python",
   "nbconvert_exporter": "python",
   "pygments_lexer": "ipython3",
   "version": "3.9.4"
  },
  "orig_nbformat": 4
 },
 "nbformat": 4,
 "nbformat_minor": 2
}
